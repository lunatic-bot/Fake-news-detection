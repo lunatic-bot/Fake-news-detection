{
 "cells": [
  {
   "cell_type": "code",
   "execution_count": 1,
   "id": "3521a146",
   "metadata": {},
   "outputs": [
    {
     "data": {
      "text/html": [
       "<div>\n",
       "<style scoped>\n",
       "    .dataframe tbody tr th:only-of-type {\n",
       "        vertical-align: middle;\n",
       "    }\n",
       "\n",
       "    .dataframe tbody tr th {\n",
       "        vertical-align: top;\n",
       "    }\n",
       "\n",
       "    .dataframe thead th {\n",
       "        text-align: right;\n",
       "    }\n",
       "</style>\n",
       "<table border=\"1\" class=\"dataframe\">\n",
       "  <thead>\n",
       "    <tr style=\"text-align: right;\">\n",
       "      <th></th>\n",
       "      <th>cleaned_text</th>\n",
       "      <th>subject</th>\n",
       "      <th>label</th>\n",
       "    </tr>\n",
       "  </thead>\n",
       "  <tbody>\n",
       "    <tr>\n",
       "      <th>0</th>\n",
       "      <td>breaking gop chairman grassley enough demands ...</td>\n",
       "      <td>News</td>\n",
       "      <td>0</td>\n",
       "    </tr>\n",
       "    <tr>\n",
       "      <th>1</th>\n",
       "      <td>failed gop candidates remembered hilarious moc...</td>\n",
       "      <td>News</td>\n",
       "      <td>0</td>\n",
       "    </tr>\n",
       "    <tr>\n",
       "      <th>2</th>\n",
       "      <td>mike pence new dc neighbors hilariously trolli...</td>\n",
       "      <td>News</td>\n",
       "      <td>0</td>\n",
       "    </tr>\n",
       "    <tr>\n",
       "      <th>3</th>\n",
       "      <td>california ag pledges defend birth control ins...</td>\n",
       "      <td>politicsNews</td>\n",
       "      <td>1</td>\n",
       "    </tr>\n",
       "    <tr>\n",
       "      <th>4</th>\n",
       "      <td>az ranchers living us mexico border destroy na...</td>\n",
       "      <td>politics</td>\n",
       "      <td>0</td>\n",
       "    </tr>\n",
       "    <tr>\n",
       "      <th>...</th>\n",
       "      <td>...</td>\n",
       "      <td>...</td>\n",
       "      <td>...</td>\n",
       "    </tr>\n",
       "    <tr>\n",
       "      <th>44893</th>\n",
       "      <td>nigeria says u agrees delayed million fighter ...</td>\n",
       "      <td>worldnews</td>\n",
       "      <td>1</td>\n",
       "    </tr>\n",
       "    <tr>\n",
       "      <th>44894</th>\n",
       "      <td>boiler room fatal illusions tune alternate cur...</td>\n",
       "      <td>Middle-east</td>\n",
       "      <td>0</td>\n",
       "    </tr>\n",
       "    <tr>\n",
       "      <th>44895</th>\n",
       "      <td>atheists sue governor texas display capitol gr...</td>\n",
       "      <td>Government News</td>\n",
       "      <td>0</td>\n",
       "    </tr>\n",
       "    <tr>\n",
       "      <th>44896</th>\n",
       "      <td>republican tax plan would deal financial hit u...</td>\n",
       "      <td>politicsNews</td>\n",
       "      <td>1</td>\n",
       "    </tr>\n",
       "    <tr>\n",
       "      <th>44897</th>\n",
       "      <td>u n refugee commissioner says australia must s...</td>\n",
       "      <td>worldnews</td>\n",
       "      <td>1</td>\n",
       "    </tr>\n",
       "  </tbody>\n",
       "</table>\n",
       "<p>44898 rows × 3 columns</p>\n",
       "</div>"
      ],
      "text/plain": [
       "                                            cleaned_text          subject  \\\n",
       "0      breaking gop chairman grassley enough demands ...             News   \n",
       "1      failed gop candidates remembered hilarious moc...             News   \n",
       "2      mike pence new dc neighbors hilariously trolli...             News   \n",
       "3      california ag pledges defend birth control ins...     politicsNews   \n",
       "4      az ranchers living us mexico border destroy na...         politics   \n",
       "...                                                  ...              ...   \n",
       "44893  nigeria says u agrees delayed million fighter ...        worldnews   \n",
       "44894  boiler room fatal illusions tune alternate cur...      Middle-east   \n",
       "44895  atheists sue governor texas display capitol gr...  Government News   \n",
       "44896  republican tax plan would deal financial hit u...     politicsNews   \n",
       "44897  u n refugee commissioner says australia must s...        worldnews   \n",
       "\n",
       "       label  \n",
       "0          0  \n",
       "1          0  \n",
       "2          0  \n",
       "3          1  \n",
       "4          0  \n",
       "...      ...  \n",
       "44893      1  \n",
       "44894      0  \n",
       "44895      0  \n",
       "44896      1  \n",
       "44897      1  \n",
       "\n",
       "[44898 rows x 3 columns]"
      ]
     },
     "execution_count": 1,
     "metadata": {},
     "output_type": "execute_result"
    }
   ],
   "source": [
    "import pandas as pd\n",
    "\n",
    "from pathlib import Path\n",
    "\n",
    "BASE_DIR = Path().resolve().parent\n",
    "cleaned_csv = BASE_DIR / r'data\\raw\\cleaned_news_data.csv'\n",
    "\n",
    "cleaned_df = pd.read_csv(cleaned_csv)\n",
    "cleaned_df"
   ]
  },
  {
   "cell_type": "code",
   "execution_count": 7,
   "id": "d36d319a",
   "metadata": {},
   "outputs": [],
   "source": [
    "any(cleaned_df['cleaned_text'].isna())\n",
    "cleaned_df['cleaned_text'] = cleaned_df['cleaned_text'].fillna(\"\")"
   ]
  },
  {
   "cell_type": "code",
   "execution_count": 8,
   "id": "1142d3e2",
   "metadata": {},
   "outputs": [],
   "source": [
    "from sklearn.feature_extraction.text import TfidfVectorizer\n",
    "\n",
    "tfvec = TfidfVectorizer(ngram_range=(1,2), max_features=5000)"
   ]
  },
  {
   "cell_type": "code",
   "execution_count": 9,
   "id": "2bacc371",
   "metadata": {},
   "outputs": [],
   "source": [
    "X = tfvec.fit_transform(cleaned_df['cleaned_text'])"
   ]
  },
  {
   "cell_type": "code",
   "execution_count": 10,
   "id": "d661cf42",
   "metadata": {},
   "outputs": [
    {
     "data": {
      "text/plain": [
       "array(['abadi', 'abandoned', 'abc', ..., 'zones', 'zor', 'zuma'],\n",
       "      dtype=object)"
      ]
     },
     "execution_count": 10,
     "metadata": {},
     "output_type": "execute_result"
    }
   ],
   "source": [
    "feature_names = tfvec.get_feature_names_out()\n",
    "feature_names"
   ]
  },
  {
   "cell_type": "code",
   "execution_count": 11,
   "id": "3c37d118",
   "metadata": {},
   "outputs": [
    {
     "data": {
      "text/plain": [
       "array([[0., 0., 0., ..., 0., 0., 0.]])"
      ]
     },
     "execution_count": 11,
     "metadata": {},
     "output_type": "execute_result"
    }
   ],
   "source": [
    "X[0].toarray()"
   ]
  },
  {
   "cell_type": "code",
   "execution_count": 12,
   "id": "d0e50d1b",
   "metadata": {},
   "outputs": [
    {
     "data": {
      "text/plain": [
       "array([0, 0, 0, ..., 0, 1, 1])"
      ]
     },
     "execution_count": 12,
     "metadata": {},
     "output_type": "execute_result"
    }
   ],
   "source": [
    "y = pd.get_dummies(cleaned_df['label'])\n",
    "y = y.iloc[:,1].values\n",
    "y = y.astype(int)\n",
    "y"
   ]
  },
  {
   "cell_type": "code",
   "execution_count": 13,
   "id": "8ef5a33f",
   "metadata": {},
   "outputs": [],
   "source": [
    "from sklearn.model_selection import train_test_split\n",
    "\n",
    "X_train, X_test, y_train, y_test = train_test_split(X, y, test_size=0.2, random_state=42)"
   ]
  },
  {
   "cell_type": "code",
   "execution_count": 14,
   "id": "4472c189",
   "metadata": {},
   "outputs": [],
   "source": [
    "from sklearn.linear_model import LogisticRegression\n",
    "from sklearn.model_selection import KFold, cross_val_score, cross_validate\n",
    "\n",
    "lr = LogisticRegression(max_iter=1000)\n",
    "\n",
    "# kf = KFold(n_splits=5, shuffle=True, random_state=42)\n",
    "\n",
    "# # scores = cross_val_score(lr, X, y, cv = kf, scoring='accuracy')\n",
    "# # print(\"Scores per fold:\", scores)\n",
    "# # print(\"Mean accuracy:\", scores.mean())\n",
    "# # print(\"Std deviation:\", scores.std())\n",
    "\n",
    "\n",
    "# scoring = ['accuracy', 'precision', 'recall', 'f1']\n",
    "\n",
    "# results = cross_validate(lr, X, y, cv=5, scoring=scoring)\n",
    "\n",
    "# print(\"Accuracy:\", results['test_accuracy'].mean())\n",
    "# print(\"Precision:\", results['test_precision'].mean())\n",
    "# print(\"Recall:\", results['test_recall'].mean())\n",
    "# print(\"F1:\", results['test_f1'].mean())\n"
   ]
  },
  {
   "cell_type": "code",
   "execution_count": 15,
   "id": "e3cfeec2",
   "metadata": {},
   "outputs": [],
   "source": [
    "model = lr.fit(X_train, y_train)"
   ]
  },
  {
   "cell_type": "code",
   "execution_count": 16,
   "id": "69bd72ee",
   "metadata": {},
   "outputs": [],
   "source": [
    "y_pred = model.predict(X_test)"
   ]
  },
  {
   "cell_type": "code",
   "execution_count": 17,
   "id": "b7ce7f23",
   "metadata": {},
   "outputs": [
    {
     "name": "stdout",
     "output_type": "stream",
     "text": [
      "0.9905345211581291\n"
     ]
    }
   ],
   "source": [
    "from sklearn.metrics import accuracy_score, classification_report\n",
    "\n",
    "score = accuracy_score(y_test, y_pred)\n",
    "print(score)"
   ]
  },
  {
   "cell_type": "code",
   "execution_count": 18,
   "id": "b2f3199c",
   "metadata": {},
   "outputs": [
    {
     "name": "stdout",
     "output_type": "stream",
     "text": [
      "              precision    recall  f1-score   support\n",
      "\n",
      "           0       0.99      0.99      0.99      4669\n",
      "           1       0.99      0.99      0.99      4311\n",
      "\n",
      "    accuracy                           0.99      8980\n",
      "   macro avg       0.99      0.99      0.99      8980\n",
      "weighted avg       0.99      0.99      0.99      8980\n",
      "\n"
     ]
    }
   ],
   "source": [
    "print(classification_report(y_test, y_pred))"
   ]
  },
  {
   "cell_type": "code",
   "execution_count": 19,
   "id": "0da37845",
   "metadata": {},
   "outputs": [
    {
     "data": {
      "text/plain": [
       "array([ 0.24658555,  0.15959395, -0.75998545, ..., -0.08712864,\n",
       "        0.52604751,  1.32572683])"
      ]
     },
     "execution_count": 19,
     "metadata": {},
     "output_type": "execute_result"
    }
   ],
   "source": [
    "coefficients = model.coef_[0]\n",
    "coefficients"
   ]
  },
  {
   "cell_type": "code",
   "execution_count": 20,
   "id": "c13544ae",
   "metadata": {},
   "outputs": [],
   "source": [
    "import numpy as np\n",
    "\n",
    "# Top FAKE indicators\n",
    "top_fake_idx = np.argsort(coefficients)[-20:]  # 20 most positive\n",
    "top_fake_words = feature_names[top_fake_idx]\n",
    "\n",
    "# Top REAL indicators\n",
    "top_real_idx = np.argsort(coefficients)[:20]  # 20 most negative\n",
    "top_real_words = feature_names[top_real_idx]"
   ]
  },
  {
   "cell_type": "code",
   "execution_count": 21,
   "id": "bc5b5690",
   "metadata": {},
   "outputs": [
    {
     "name": "stdout",
     "output_type": "stream",
     "text": [
      "['via' 'video' 'us' 'read' 'president trump' 'hillary' 'gop' 'image'\n",
      " 'obama' 'featured image' 'watch' 'mr' 'featured' 'even' 'america' 'wire'\n",
      " 'image via' 'breaking' 'com' 'getty']\n",
      "['democratic' 'presidential' 'comment' 'said statement' 'president barack'\n",
      " 'monday' 'minister' 'edt' 'nov' 'friday' 'tuesday' 'thursday' 'wednesday'\n",
      " 'reuters president' 'republican' 'washington' 'president donald'\n",
      " 'washington reuters' 'said' 'reuters']\n"
     ]
    }
   ],
   "source": [
    "print(top_real_words)\n",
    "print(top_fake_words)"
   ]
  },
  {
   "cell_type": "code",
   "execution_count": null,
   "id": "2e615b7d",
   "metadata": {},
   "outputs": [],
   "source": []
  },
  {
   "cell_type": "code",
   "execution_count": null,
   "id": "71e15e51",
   "metadata": {},
   "outputs": [],
   "source": [
    "from sklearn.naive_bayes import MultinomialNB\n",
    "\n",
    "nb = MultinomialNB()"
   ]
  },
  {
   "cell_type": "code",
   "execution_count": null,
   "id": "df4f64d1",
   "metadata": {},
   "outputs": [
    {
     "name": "stdout",
     "output_type": "stream",
     "text": [
      "0.9430957683741648\n"
     ]
    }
   ],
   "source": [
    "nb_model = nb.fit(X_train, y_train)\n",
    "y_pred = nb_model.predict(X_test)\n",
    "score = accuracy_score(y_test, y_pred)\n",
    "print(score)"
   ]
  },
  {
   "cell_type": "code",
   "execution_count": 23,
   "id": "e9cc37d2",
   "metadata": {},
   "outputs": [],
   "source": [
    "import pickle\n",
    "\n",
    "with open(\"fake_news_model.pkl\", \"wb\") as f:\n",
    "    pickle.dump(lr, f)"
   ]
  },
  {
   "cell_type": "code",
   "execution_count": null,
   "id": "7ee7ea88",
   "metadata": {},
   "outputs": [],
   "source": []
  }
 ],
 "metadata": {
  "kernelspec": {
   "display_name": "Python 3",
   "language": "python",
   "name": "python3"
  },
  "language_info": {
   "codemirror_mode": {
    "name": "ipython",
    "version": 3
   },
   "file_extension": ".py",
   "mimetype": "text/x-python",
   "name": "python",
   "nbconvert_exporter": "python",
   "pygments_lexer": "ipython3",
   "version": "3.11.1"
  }
 },
 "nbformat": 4,
 "nbformat_minor": 5
}
