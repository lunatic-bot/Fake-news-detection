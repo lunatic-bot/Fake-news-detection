{
 "cells": [
  {
   "cell_type": "code",
   "execution_count": null,
   "id": "a5788471",
   "metadata": {},
   "outputs": [
    {
     "name": "stdout",
     "output_type": "stream",
     "text": [
      "C:\\Users\\atalb\\Documents\\Coding\\MLandAI\\Fake-news-detection\n"
     ]
    }
   ],
   "source": [
    "from pathlib import Path\n",
    "\n",
    "BASE_DIR = Path().resolve().parent\n",
    "print(BASE_DIR)\n",
    "\n",
    "import pandas as pd\n",
    "csv_path = BASE_DIR / r'data\\raw\\combined_news_data.csv'"
   ]
  },
  {
   "cell_type": "code",
   "execution_count": 13,
   "id": "c084dbc9",
   "metadata": {},
   "outputs": [
    {
     "data": {
      "text/html": [
       "<div>\n",
       "<style scoped>\n",
       "    .dataframe tbody tr th:only-of-type {\n",
       "        vertical-align: middle;\n",
       "    }\n",
       "\n",
       "    .dataframe tbody tr th {\n",
       "        vertical-align: top;\n",
       "    }\n",
       "\n",
       "    .dataframe thead th {\n",
       "        text-align: right;\n",
       "    }\n",
       "</style>\n",
       "<table border=\"1\" class=\"dataframe\">\n",
       "  <thead>\n",
       "    <tr style=\"text-align: right;\">\n",
       "      <th></th>\n",
       "      <th>full_text</th>\n",
       "      <th>subject</th>\n",
       "      <th>label</th>\n",
       "    </tr>\n",
       "  </thead>\n",
       "  <tbody>\n",
       "    <tr>\n",
       "      <th>0</th>\n",
       "      <td>BREAKING: GOP Chairman Grassley Has Had Enoug...</td>\n",
       "      <td>News</td>\n",
       "      <td>0</td>\n",
       "    </tr>\n",
       "    <tr>\n",
       "      <th>1</th>\n",
       "      <td>Failed GOP Candidates Remembered In Hilarious...</td>\n",
       "      <td>News</td>\n",
       "      <td>0</td>\n",
       "    </tr>\n",
       "    <tr>\n",
       "      <th>2</th>\n",
       "      <td>Mike Pence’s New DC Neighbors Are HILARIOUSLY...</td>\n",
       "      <td>News</td>\n",
       "      <td>0</td>\n",
       "    </tr>\n",
       "    <tr>\n",
       "      <th>3</th>\n",
       "      <td>California AG pledges to defend birth control ...</td>\n",
       "      <td>politicsNews</td>\n",
       "      <td>1</td>\n",
       "    </tr>\n",
       "    <tr>\n",
       "      <th>4</th>\n",
       "      <td>AZ RANCHERS Living On US-Mexico Border Destroy...</td>\n",
       "      <td>politics</td>\n",
       "      <td>0</td>\n",
       "    </tr>\n",
       "    <tr>\n",
       "      <th>...</th>\n",
       "      <td>...</td>\n",
       "      <td>...</td>\n",
       "      <td>...</td>\n",
       "    </tr>\n",
       "    <tr>\n",
       "      <th>44893</th>\n",
       "      <td>Nigeria says U.S. agrees delayed $593 million ...</td>\n",
       "      <td>worldnews</td>\n",
       "      <td>1</td>\n",
       "    </tr>\n",
       "    <tr>\n",
       "      <th>44894</th>\n",
       "      <td>Boiler Room #62 – Fatal Illusions Tune in to t...</td>\n",
       "      <td>Middle-east</td>\n",
       "      <td>0</td>\n",
       "    </tr>\n",
       "    <tr>\n",
       "      <th>44895</th>\n",
       "      <td>ATHEISTS SUE GOVERNOR OF TEXAS Over Display on...</td>\n",
       "      <td>Government News</td>\n",
       "      <td>0</td>\n",
       "    </tr>\n",
       "    <tr>\n",
       "      <th>44896</th>\n",
       "      <td>Republican tax plan would deal financial hit t...</td>\n",
       "      <td>politicsNews</td>\n",
       "      <td>1</td>\n",
       "    </tr>\n",
       "    <tr>\n",
       "      <th>44897</th>\n",
       "      <td>U.N. refugee commissioner says Australia must ...</td>\n",
       "      <td>worldnews</td>\n",
       "      <td>1</td>\n",
       "    </tr>\n",
       "  </tbody>\n",
       "</table>\n",
       "<p>44898 rows × 3 columns</p>\n",
       "</div>"
      ],
      "text/plain": [
       "                                               full_text          subject  \\\n",
       "0       BREAKING: GOP Chairman Grassley Has Had Enoug...             News   \n",
       "1       Failed GOP Candidates Remembered In Hilarious...             News   \n",
       "2       Mike Pence’s New DC Neighbors Are HILARIOUSLY...             News   \n",
       "3      California AG pledges to defend birth control ...     politicsNews   \n",
       "4      AZ RANCHERS Living On US-Mexico Border Destroy...         politics   \n",
       "...                                                  ...              ...   \n",
       "44893  Nigeria says U.S. agrees delayed $593 million ...        worldnews   \n",
       "44894  Boiler Room #62 – Fatal Illusions Tune in to t...      Middle-east   \n",
       "44895  ATHEISTS SUE GOVERNOR OF TEXAS Over Display on...  Government News   \n",
       "44896  Republican tax plan would deal financial hit t...     politicsNews   \n",
       "44897  U.N. refugee commissioner says Australia must ...        worldnews   \n",
       "\n",
       "       label  \n",
       "0          0  \n",
       "1          0  \n",
       "2          0  \n",
       "3          1  \n",
       "4          0  \n",
       "...      ...  \n",
       "44893      1  \n",
       "44894      0  \n",
       "44895      0  \n",
       "44896      1  \n",
       "44897      1  \n",
       "\n",
       "[44898 rows x 3 columns]"
      ]
     },
     "execution_count": 13,
     "metadata": {},
     "output_type": "execute_result"
    }
   ],
   "source": [
    "news_data = pd.read_csv(csv_path)\n",
    "news_data"
   ]
  },
  {
   "cell_type": "code",
   "execution_count": 14,
   "id": "d3850caa",
   "metadata": {},
   "outputs": [
    {
     "data": {
      "text/plain": [
       "(44898, 3)"
      ]
     },
     "execution_count": 14,
     "metadata": {},
     "output_type": "execute_result"
    }
   ],
   "source": [
    "news_data.shape"
   ]
  },
  {
   "cell_type": "code",
   "execution_count": 15,
   "id": "317f8d67",
   "metadata": {},
   "outputs": [
    {
     "data": {
      "text/html": [
       "<div>\n",
       "<style scoped>\n",
       "    .dataframe tbody tr th:only-of-type {\n",
       "        vertical-align: middle;\n",
       "    }\n",
       "\n",
       "    .dataframe tbody tr th {\n",
       "        vertical-align: top;\n",
       "    }\n",
       "\n",
       "    .dataframe thead th {\n",
       "        text-align: right;\n",
       "    }\n",
       "</style>\n",
       "<table border=\"1\" class=\"dataframe\">\n",
       "  <thead>\n",
       "    <tr style=\"text-align: right;\">\n",
       "      <th></th>\n",
       "      <th>full_text</th>\n",
       "      <th>subject</th>\n",
       "      <th>label</th>\n",
       "    </tr>\n",
       "  </thead>\n",
       "  <tbody>\n",
       "    <tr>\n",
       "      <th>0</th>\n",
       "      <td>False</td>\n",
       "      <td>False</td>\n",
       "      <td>False</td>\n",
       "    </tr>\n",
       "    <tr>\n",
       "      <th>1</th>\n",
       "      <td>False</td>\n",
       "      <td>False</td>\n",
       "      <td>False</td>\n",
       "    </tr>\n",
       "    <tr>\n",
       "      <th>2</th>\n",
       "      <td>False</td>\n",
       "      <td>False</td>\n",
       "      <td>False</td>\n",
       "    </tr>\n",
       "    <tr>\n",
       "      <th>3</th>\n",
       "      <td>False</td>\n",
       "      <td>False</td>\n",
       "      <td>False</td>\n",
       "    </tr>\n",
       "    <tr>\n",
       "      <th>4</th>\n",
       "      <td>False</td>\n",
       "      <td>False</td>\n",
       "      <td>False</td>\n",
       "    </tr>\n",
       "    <tr>\n",
       "      <th>...</th>\n",
       "      <td>...</td>\n",
       "      <td>...</td>\n",
       "      <td>...</td>\n",
       "    </tr>\n",
       "    <tr>\n",
       "      <th>44893</th>\n",
       "      <td>False</td>\n",
       "      <td>False</td>\n",
       "      <td>False</td>\n",
       "    </tr>\n",
       "    <tr>\n",
       "      <th>44894</th>\n",
       "      <td>False</td>\n",
       "      <td>False</td>\n",
       "      <td>False</td>\n",
       "    </tr>\n",
       "    <tr>\n",
       "      <th>44895</th>\n",
       "      <td>False</td>\n",
       "      <td>False</td>\n",
       "      <td>False</td>\n",
       "    </tr>\n",
       "    <tr>\n",
       "      <th>44896</th>\n",
       "      <td>False</td>\n",
       "      <td>False</td>\n",
       "      <td>False</td>\n",
       "    </tr>\n",
       "    <tr>\n",
       "      <th>44897</th>\n",
       "      <td>False</td>\n",
       "      <td>False</td>\n",
       "      <td>False</td>\n",
       "    </tr>\n",
       "  </tbody>\n",
       "</table>\n",
       "<p>44898 rows × 3 columns</p>\n",
       "</div>"
      ],
      "text/plain": [
       "       full_text  subject  label\n",
       "0          False    False  False\n",
       "1          False    False  False\n",
       "2          False    False  False\n",
       "3          False    False  False\n",
       "4          False    False  False\n",
       "...          ...      ...    ...\n",
       "44893      False    False  False\n",
       "44894      False    False  False\n",
       "44895      False    False  False\n",
       "44896      False    False  False\n",
       "44897      False    False  False\n",
       "\n",
       "[44898 rows x 3 columns]"
      ]
     },
     "execution_count": 15,
     "metadata": {},
     "output_type": "execute_result"
    }
   ],
   "source": [
    "news_data.isna()"
   ]
  },
  {
   "cell_type": "code",
   "execution_count": 16,
   "id": "bdb7244c",
   "metadata": {},
   "outputs": [
    {
     "data": {
      "text/plain": [
       "0         BREAKING: GOP Chairman Grassley Has Had Enoug...\n",
       "1         Failed GOP Candidates Remembered In Hilarious...\n",
       "2         Mike Pence’s New DC Neighbors Are HILARIOUSLY...\n",
       "3        California AG pledges to defend birth control ...\n",
       "4        AZ RANCHERS Living On US-Mexico Border Destroy...\n",
       "                               ...                        \n",
       "44893    Nigeria says U.S. agrees delayed $593 million ...\n",
       "44894    Boiler Room #62 – Fatal Illusions Tune in to t...\n",
       "44895    ATHEISTS SUE GOVERNOR OF TEXAS Over Display on...\n",
       "44896    Republican tax plan would deal financial hit t...\n",
       "44897    U.N. refugee commissioner says Australia must ...\n",
       "Name: full_text, Length: 44898, dtype: object"
      ]
     },
     "execution_count": 16,
     "metadata": {},
     "output_type": "execute_result"
    }
   ],
   "source": [
    "news_data['full_text']"
   ]
  },
  {
   "cell_type": "code",
   "execution_count": 17,
   "id": "0d9b2b3b",
   "metadata": {},
   "outputs": [],
   "source": [
    "import re \n",
    "from bs4 import BeautifulSoup\n",
    "from nltk.corpus import stopwords\n",
    "stop_words = set(stopwords.words('english'))\n",
    "\n",
    "def remove_html(text):\n",
    "    soup = BeautifulSoup(text, \"html.parser\")\n",
    "    return soup.get_text()\n",
    "\n",
    "\n",
    "def clean_text(text, lemmatize=False):\n",
    "    text = text.lower()  \n",
    "\n",
    "    text = remove_html(text)  \n",
    "    text = re.sub(r\"http\\S+|www\\S+\", \"\", text)   \n",
    "    text = re.sub(r\"[^a-zA-Z]\", \" \", text)  \n",
    "\n",
    "    tokens = text.split()   \n",
    "    tokens = [w for w in tokens if w not in stop_words]  \n",
    "\n",
    "    # if lemmatize:\n",
    "    #     tokens = [lemmatizer.lemmatize(w) for w in tokens]  # ✅ optional lemmatization  \n",
    "\n",
    "    return \" \".join(tokens)"
   ]
  },
  {
   "cell_type": "code",
   "execution_count": 19,
   "id": "9977f110",
   "metadata": {},
   "outputs": [
    {
     "name": "stderr",
     "output_type": "stream",
     "text": [
      "C:\\Users\\atalb\\AppData\\Local\\Temp\\ipykernel_30072\\1049205147.py:7: MarkupResemblesLocatorWarning: The input looks more like a filename than markup. You may want to open this file and pass the filehandle into Beautiful Soup.\n",
      "  soup = BeautifulSoup(text, \"html.parser\")\n"
     ]
    },
    {
     "data": {
      "text/html": [
       "<div>\n",
       "<style scoped>\n",
       "    .dataframe tbody tr th:only-of-type {\n",
       "        vertical-align: middle;\n",
       "    }\n",
       "\n",
       "    .dataframe tbody tr th {\n",
       "        vertical-align: top;\n",
       "    }\n",
       "\n",
       "    .dataframe thead th {\n",
       "        text-align: right;\n",
       "    }\n",
       "</style>\n",
       "<table border=\"1\" class=\"dataframe\">\n",
       "  <thead>\n",
       "    <tr style=\"text-align: right;\">\n",
       "      <th></th>\n",
       "      <th>full_text</th>\n",
       "      <th>subject</th>\n",
       "      <th>label</th>\n",
       "      <th>cleaned_text</th>\n",
       "    </tr>\n",
       "  </thead>\n",
       "  <tbody>\n",
       "    <tr>\n",
       "      <th>0</th>\n",
       "      <td>BREAKING: GOP Chairman Grassley Has Had Enoug...</td>\n",
       "      <td>News</td>\n",
       "      <td>0</td>\n",
       "      <td>breaking gop chairman grassley enough demands ...</td>\n",
       "    </tr>\n",
       "    <tr>\n",
       "      <th>1</th>\n",
       "      <td>Failed GOP Candidates Remembered In Hilarious...</td>\n",
       "      <td>News</td>\n",
       "      <td>0</td>\n",
       "      <td>failed gop candidates remembered hilarious moc...</td>\n",
       "    </tr>\n",
       "    <tr>\n",
       "      <th>2</th>\n",
       "      <td>Mike Pence’s New DC Neighbors Are HILARIOUSLY...</td>\n",
       "      <td>News</td>\n",
       "      <td>0</td>\n",
       "      <td>mike pence new dc neighbors hilariously trolli...</td>\n",
       "    </tr>\n",
       "    <tr>\n",
       "      <th>3</th>\n",
       "      <td>California AG pledges to defend birth control ...</td>\n",
       "      <td>politicsNews</td>\n",
       "      <td>1</td>\n",
       "      <td>california ag pledges defend birth control ins...</td>\n",
       "    </tr>\n",
       "    <tr>\n",
       "      <th>4</th>\n",
       "      <td>AZ RANCHERS Living On US-Mexico Border Destroy...</td>\n",
       "      <td>politics</td>\n",
       "      <td>0</td>\n",
       "      <td>az ranchers living us mexico border destroy na...</td>\n",
       "    </tr>\n",
       "    <tr>\n",
       "      <th>...</th>\n",
       "      <td>...</td>\n",
       "      <td>...</td>\n",
       "      <td>...</td>\n",
       "      <td>...</td>\n",
       "    </tr>\n",
       "    <tr>\n",
       "      <th>44893</th>\n",
       "      <td>Nigeria says U.S. agrees delayed $593 million ...</td>\n",
       "      <td>worldnews</td>\n",
       "      <td>1</td>\n",
       "      <td>nigeria says u agrees delayed million fighter ...</td>\n",
       "    </tr>\n",
       "    <tr>\n",
       "      <th>44894</th>\n",
       "      <td>Boiler Room #62 – Fatal Illusions Tune in to t...</td>\n",
       "      <td>Middle-east</td>\n",
       "      <td>0</td>\n",
       "      <td>boiler room fatal illusions tune alternate cur...</td>\n",
       "    </tr>\n",
       "    <tr>\n",
       "      <th>44895</th>\n",
       "      <td>ATHEISTS SUE GOVERNOR OF TEXAS Over Display on...</td>\n",
       "      <td>Government News</td>\n",
       "      <td>0</td>\n",
       "      <td>atheists sue governor texas display capitol gr...</td>\n",
       "    </tr>\n",
       "    <tr>\n",
       "      <th>44896</th>\n",
       "      <td>Republican tax plan would deal financial hit t...</td>\n",
       "      <td>politicsNews</td>\n",
       "      <td>1</td>\n",
       "      <td>republican tax plan would deal financial hit u...</td>\n",
       "    </tr>\n",
       "    <tr>\n",
       "      <th>44897</th>\n",
       "      <td>U.N. refugee commissioner says Australia must ...</td>\n",
       "      <td>worldnews</td>\n",
       "      <td>1</td>\n",
       "      <td>u n refugee commissioner says australia must s...</td>\n",
       "    </tr>\n",
       "  </tbody>\n",
       "</table>\n",
       "<p>44898 rows × 4 columns</p>\n",
       "</div>"
      ],
      "text/plain": [
       "                                               full_text          subject  \\\n",
       "0       BREAKING: GOP Chairman Grassley Has Had Enoug...             News   \n",
       "1       Failed GOP Candidates Remembered In Hilarious...             News   \n",
       "2       Mike Pence’s New DC Neighbors Are HILARIOUSLY...             News   \n",
       "3      California AG pledges to defend birth control ...     politicsNews   \n",
       "4      AZ RANCHERS Living On US-Mexico Border Destroy...         politics   \n",
       "...                                                  ...              ...   \n",
       "44893  Nigeria says U.S. agrees delayed $593 million ...        worldnews   \n",
       "44894  Boiler Room #62 – Fatal Illusions Tune in to t...      Middle-east   \n",
       "44895  ATHEISTS SUE GOVERNOR OF TEXAS Over Display on...  Government News   \n",
       "44896  Republican tax plan would deal financial hit t...     politicsNews   \n",
       "44897  U.N. refugee commissioner says Australia must ...        worldnews   \n",
       "\n",
       "       label                                       cleaned_text  \n",
       "0          0  breaking gop chairman grassley enough demands ...  \n",
       "1          0  failed gop candidates remembered hilarious moc...  \n",
       "2          0  mike pence new dc neighbors hilariously trolli...  \n",
       "3          1  california ag pledges defend birth control ins...  \n",
       "4          0  az ranchers living us mexico border destroy na...  \n",
       "...      ...                                                ...  \n",
       "44893      1  nigeria says u agrees delayed million fighter ...  \n",
       "44894      0  boiler room fatal illusions tune alternate cur...  \n",
       "44895      0  atheists sue governor texas display capitol gr...  \n",
       "44896      1  republican tax plan would deal financial hit u...  \n",
       "44897      1  u n refugee commissioner says australia must s...  \n",
       "\n",
       "[44898 rows x 4 columns]"
      ]
     },
     "execution_count": 19,
     "metadata": {},
     "output_type": "execute_result"
    }
   ],
   "source": [
    "news_data['cleaned_text'] = news_data['full_text'].apply(lambda x: clean_text(x))\n",
    "news_data"
   ]
  },
  {
   "cell_type": "code",
   "execution_count": 20,
   "id": "ac53eb06",
   "metadata": {},
   "outputs": [
    {
     "data": {
      "text/html": [
       "<div>\n",
       "<style scoped>\n",
       "    .dataframe tbody tr th:only-of-type {\n",
       "        vertical-align: middle;\n",
       "    }\n",
       "\n",
       "    .dataframe tbody tr th {\n",
       "        vertical-align: top;\n",
       "    }\n",
       "\n",
       "    .dataframe thead th {\n",
       "        text-align: right;\n",
       "    }\n",
       "</style>\n",
       "<table border=\"1\" class=\"dataframe\">\n",
       "  <thead>\n",
       "    <tr style=\"text-align: right;\">\n",
       "      <th></th>\n",
       "      <th>cleaned_text</th>\n",
       "      <th>subject</th>\n",
       "      <th>label</th>\n",
       "    </tr>\n",
       "  </thead>\n",
       "  <tbody>\n",
       "    <tr>\n",
       "      <th>0</th>\n",
       "      <td>breaking gop chairman grassley enough demands ...</td>\n",
       "      <td>News</td>\n",
       "      <td>0</td>\n",
       "    </tr>\n",
       "    <tr>\n",
       "      <th>1</th>\n",
       "      <td>failed gop candidates remembered hilarious moc...</td>\n",
       "      <td>News</td>\n",
       "      <td>0</td>\n",
       "    </tr>\n",
       "    <tr>\n",
       "      <th>2</th>\n",
       "      <td>mike pence new dc neighbors hilariously trolli...</td>\n",
       "      <td>News</td>\n",
       "      <td>0</td>\n",
       "    </tr>\n",
       "    <tr>\n",
       "      <th>3</th>\n",
       "      <td>california ag pledges defend birth control ins...</td>\n",
       "      <td>politicsNews</td>\n",
       "      <td>1</td>\n",
       "    </tr>\n",
       "    <tr>\n",
       "      <th>4</th>\n",
       "      <td>az ranchers living us mexico border destroy na...</td>\n",
       "      <td>politics</td>\n",
       "      <td>0</td>\n",
       "    </tr>\n",
       "    <tr>\n",
       "      <th>...</th>\n",
       "      <td>...</td>\n",
       "      <td>...</td>\n",
       "      <td>...</td>\n",
       "    </tr>\n",
       "    <tr>\n",
       "      <th>44893</th>\n",
       "      <td>nigeria says u agrees delayed million fighter ...</td>\n",
       "      <td>worldnews</td>\n",
       "      <td>1</td>\n",
       "    </tr>\n",
       "    <tr>\n",
       "      <th>44894</th>\n",
       "      <td>boiler room fatal illusions tune alternate cur...</td>\n",
       "      <td>Middle-east</td>\n",
       "      <td>0</td>\n",
       "    </tr>\n",
       "    <tr>\n",
       "      <th>44895</th>\n",
       "      <td>atheists sue governor texas display capitol gr...</td>\n",
       "      <td>Government News</td>\n",
       "      <td>0</td>\n",
       "    </tr>\n",
       "    <tr>\n",
       "      <th>44896</th>\n",
       "      <td>republican tax plan would deal financial hit u...</td>\n",
       "      <td>politicsNews</td>\n",
       "      <td>1</td>\n",
       "    </tr>\n",
       "    <tr>\n",
       "      <th>44897</th>\n",
       "      <td>u n refugee commissioner says australia must s...</td>\n",
       "      <td>worldnews</td>\n",
       "      <td>1</td>\n",
       "    </tr>\n",
       "  </tbody>\n",
       "</table>\n",
       "<p>44898 rows × 3 columns</p>\n",
       "</div>"
      ],
      "text/plain": [
       "                                            cleaned_text          subject  \\\n",
       "0      breaking gop chairman grassley enough demands ...             News   \n",
       "1      failed gop candidates remembered hilarious moc...             News   \n",
       "2      mike pence new dc neighbors hilariously trolli...             News   \n",
       "3      california ag pledges defend birth control ins...     politicsNews   \n",
       "4      az ranchers living us mexico border destroy na...         politics   \n",
       "...                                                  ...              ...   \n",
       "44893  nigeria says u agrees delayed million fighter ...        worldnews   \n",
       "44894  boiler room fatal illusions tune alternate cur...      Middle-east   \n",
       "44895  atheists sue governor texas display capitol gr...  Government News   \n",
       "44896  republican tax plan would deal financial hit u...     politicsNews   \n",
       "44897  u n refugee commissioner says australia must s...        worldnews   \n",
       "\n",
       "       label  \n",
       "0          0  \n",
       "1          0  \n",
       "2          0  \n",
       "3          1  \n",
       "4          0  \n",
       "...      ...  \n",
       "44893      1  \n",
       "44894      0  \n",
       "44895      0  \n",
       "44896      1  \n",
       "44897      1  \n",
       "\n",
       "[44898 rows x 3 columns]"
      ]
     },
     "execution_count": 20,
     "metadata": {},
     "output_type": "execute_result"
    }
   ],
   "source": [
    "cleaned_df = news_data[['cleaned_text', 'subject', 'label']]\n",
    "cleaned_df"
   ]
  },
  {
   "cell_type": "code",
   "execution_count": 21,
   "id": "4e0124f3",
   "metadata": {},
   "outputs": [],
   "source": [
    "cleaned_csv = BASE_DIR / r'data\\raw\\cleaned_news_data.csv'\n",
    "cleaned_df.to_csv(cleaned_csv, index=False)"
   ]
  },
  {
   "cell_type": "code",
   "execution_count": 23,
   "id": "bb5c804b",
   "metadata": {},
   "outputs": [],
   "source": [
    "from sklearn.feature_extraction.text import TfidfVectorizer\n",
    "\n",
    "tfvec = TfidfVectorizer(ngram_range=(1,2), max_features=5000)"
   ]
  },
  {
   "cell_type": "code",
   "execution_count": 24,
   "id": "d7323dad",
   "metadata": {},
   "outputs": [],
   "source": [
    "X = tfvec.fit_transform(cleaned_df['cleaned_text'])"
   ]
  },
  {
   "cell_type": "code",
   "execution_count": 51,
   "id": "3e72f59e",
   "metadata": {},
   "outputs": [
    {
     "data": {
      "text/plain": [
       "array(['abadi', 'abandoned', 'abc', ..., 'zones', 'zor', 'zuma'],\n",
       "      dtype=object)"
      ]
     },
     "execution_count": 51,
     "metadata": {},
     "output_type": "execute_result"
    }
   ],
   "source": [
    "feature_names = tfvec.get_feature_names_out()\n",
    "feature_names"
   ]
  },
  {
   "cell_type": "code",
   "execution_count": 27,
   "id": "9189659e",
   "metadata": {},
   "outputs": [
    {
     "data": {
      "text/plain": [
       "array([[0., 0., 0., ..., 0., 0., 0.]])"
      ]
     },
     "execution_count": 27,
     "metadata": {},
     "output_type": "execute_result"
    }
   ],
   "source": [
    "X[0].toarray()"
   ]
  },
  {
   "cell_type": "code",
   "execution_count": 32,
   "id": "64b7fd19",
   "metadata": {},
   "outputs": [
    {
     "data": {
      "text/plain": [
       "array([0, 0, 0, ..., 0, 1, 1])"
      ]
     },
     "execution_count": 32,
     "metadata": {},
     "output_type": "execute_result"
    }
   ],
   "source": [
    "y = pd.get_dummies(cleaned_df['label'])\n",
    "y = y.iloc[:,1].values\n",
    "y = y.astype(int)\n",
    "y"
   ]
  },
  {
   "cell_type": "code",
   "execution_count": 33,
   "id": "fa938470",
   "metadata": {},
   "outputs": [],
   "source": [
    "from sklearn.model_selection import train_test_split\n",
    "\n",
    "X_train, X_test, y_train, y_test = train_test_split(X, y, test_size=0.2, random_state=42)"
   ]
  },
  {
   "cell_type": "code",
   "execution_count": 43,
   "id": "aa883c34",
   "metadata": {},
   "outputs": [],
   "source": [
    "from sklearn.linear_model import LogisticRegression\n",
    "from sklearn.model_selection import KFold, cross_val_score, cross_validate\n",
    "\n",
    "lr = LogisticRegression(max_iter=1000)\n",
    "\n",
    "# kf = KFold(n_splits=5, shuffle=True, random_state=42)\n",
    "\n",
    "# # scores = cross_val_score(lr, X, y, cv = kf, scoring='accuracy')\n",
    "# # print(\"Scores per fold:\", scores)\n",
    "# # print(\"Mean accuracy:\", scores.mean())\n",
    "# # print(\"Std deviation:\", scores.std())\n",
    "\n",
    "\n",
    "# scoring = ['accuracy', 'precision', 'recall', 'f1']\n",
    "\n",
    "# results = cross_validate(lr, X, y, cv=5, scoring=scoring)\n",
    "\n",
    "# print(\"Accuracy:\", results['test_accuracy'].mean())\n",
    "# print(\"Precision:\", results['test_precision'].mean())\n",
    "# print(\"Recall:\", results['test_recall'].mean())\n",
    "# print(\"F1:\", results['test_f1'].mean())\n"
   ]
  },
  {
   "cell_type": "code",
   "execution_count": 44,
   "id": "0381d66e",
   "metadata": {},
   "outputs": [],
   "source": [
    "model = lr.fit(X_train, y_train)"
   ]
  },
  {
   "cell_type": "code",
   "execution_count": 45,
   "id": "78b1d3c5",
   "metadata": {},
   "outputs": [],
   "source": [
    "y_pred = model.predict(X_test)"
   ]
  },
  {
   "cell_type": "code",
   "execution_count": 46,
   "id": "796f7486",
   "metadata": {},
   "outputs": [
    {
     "name": "stdout",
     "output_type": "stream",
     "text": [
      "0.9905345211581291\n"
     ]
    }
   ],
   "source": [
    "from sklearn.metrics import accuracy_score, classification_report\n",
    "\n",
    "score = accuracy_score(y_test, y_pred)\n",
    "print(score)"
   ]
  },
  {
   "cell_type": "code",
   "execution_count": 47,
   "id": "45073cda",
   "metadata": {},
   "outputs": [
    {
     "name": "stdout",
     "output_type": "stream",
     "text": [
      "              precision    recall  f1-score   support\n",
      "\n",
      "           0       0.99      0.99      0.99      4669\n",
      "           1       0.99      0.99      0.99      4311\n",
      "\n",
      "    accuracy                           0.99      8980\n",
      "   macro avg       0.99      0.99      0.99      8980\n",
      "weighted avg       0.99      0.99      0.99      8980\n",
      "\n"
     ]
    }
   ],
   "source": [
    "print(classification_report(y_test, y_pred))"
   ]
  },
  {
   "cell_type": "code",
   "execution_count": 53,
   "id": "242be7fb",
   "metadata": {},
   "outputs": [
    {
     "data": {
      "text/plain": [
       "array([ 0.24658555,  0.15959395, -0.75998545, ..., -0.08712864,\n",
       "        0.52604751,  1.32572683])"
      ]
     },
     "execution_count": 53,
     "metadata": {},
     "output_type": "execute_result"
    }
   ],
   "source": [
    "coefficients = model.coef_[0]\n",
    "coefficients"
   ]
  },
  {
   "cell_type": "code",
   "execution_count": 54,
   "id": "0ebfaed0",
   "metadata": {},
   "outputs": [],
   "source": [
    "import numpy as np\n",
    "\n",
    "# Top FAKE indicators\n",
    "top_fake_idx = np.argsort(coefficients)[-20:]  # 20 most positive\n",
    "top_fake_words = feature_names[top_fake_idx]\n",
    "\n",
    "# Top REAL indicators\n",
    "top_real_idx = np.argsort(coefficients)[:20]  # 20 most negative\n",
    "top_real_words = feature_names[top_real_idx]"
   ]
  },
  {
   "cell_type": "code",
   "execution_count": 55,
   "id": "238576c5",
   "metadata": {},
   "outputs": [
    {
     "name": "stdout",
     "output_type": "stream",
     "text": [
      "['via' 'video' 'us' 'read' 'president trump' 'hillary' 'gop' 'image'\n",
      " 'obama' 'featured image' 'watch' 'mr' 'featured' 'even' 'america' 'wire'\n",
      " 'image via' 'breaking' 'com' 'getty']\n",
      "['democratic' 'presidential' 'comment' 'said statement' 'president barack'\n",
      " 'monday' 'minister' 'edt' 'nov' 'friday' 'tuesday' 'thursday' 'wednesday'\n",
      " 'reuters president' 'republican' 'washington' 'president donald'\n",
      " 'washington reuters' 'said' 'reuters']\n"
     ]
    }
   ],
   "source": [
    "print(top_real_words)\n",
    "print(top_fake_words)"
   ]
  },
  {
   "cell_type": "code",
   "execution_count": null,
   "id": "4a5093f6",
   "metadata": {},
   "outputs": [],
   "source": []
  },
  {
   "cell_type": "code",
   "execution_count": 48,
   "id": "c1b3a3af",
   "metadata": {},
   "outputs": [],
   "source": [
    "from sklearn.naive_bayes import MultinomialNB\n",
    "\n",
    "nb = MultinomialNB()"
   ]
  },
  {
   "cell_type": "code",
   "execution_count": 50,
   "id": "42b93bb2",
   "metadata": {},
   "outputs": [
    {
     "name": "stdout",
     "output_type": "stream",
     "text": [
      "0.9430957683741648\n"
     ]
    }
   ],
   "source": [
    "nb_model = nb.fit(X_train, y_train)\n",
    "y_pred = nb_model.predict(X_test)\n",
    "score = accuracy_score(y_test, y_pred)\n",
    "print(score)"
   ]
  },
  {
   "cell_type": "code",
   "execution_count": null,
   "id": "5c5a5836",
   "metadata": {},
   "outputs": [],
   "source": []
  }
 ],
 "metadata": {
  "kernelspec": {
   "display_name": "Python 3",
   "language": "python",
   "name": "python3"
  },
  "language_info": {
   "codemirror_mode": {
    "name": "ipython",
    "version": 3
   },
   "file_extension": ".py",
   "mimetype": "text/x-python",
   "name": "python",
   "nbconvert_exporter": "python",
   "pygments_lexer": "ipython3",
   "version": "3.11.1"
  }
 },
 "nbformat": 4,
 "nbformat_minor": 5
}
