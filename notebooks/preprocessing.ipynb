{
 "cells": [
  {
   "cell_type": "code",
   "execution_count": 1,
   "id": "a5788471",
   "metadata": {},
   "outputs": [
    {
     "name": "stdout",
     "output_type": "stream",
     "text": [
      "C:\\Users\\atalb\\Documents\\Coding\\MLandAI\\Fake-news-detection\n"
     ]
    }
   ],
   "source": [
    "from pathlib import Path\n",
    "\n",
    "BASE_DIR = Path().resolve().parent\n",
    "print(BASE_DIR)\n",
    "\n",
    "import pandas as pd\n",
    "csv_path = BASE_DIR / r'data\\raw\\combined_news_data.csv'"
   ]
  },
  {
   "cell_type": "code",
   "execution_count": 2,
   "id": "c084dbc9",
   "metadata": {},
   "outputs": [
    {
     "data": {
      "text/html": [
       "<div>\n",
       "<style scoped>\n",
       "    .dataframe tbody tr th:only-of-type {\n",
       "        vertical-align: middle;\n",
       "    }\n",
       "\n",
       "    .dataframe tbody tr th {\n",
       "        vertical-align: top;\n",
       "    }\n",
       "\n",
       "    .dataframe thead th {\n",
       "        text-align: right;\n",
       "    }\n",
       "</style>\n",
       "<table border=\"1\" class=\"dataframe\">\n",
       "  <thead>\n",
       "    <tr style=\"text-align: right;\">\n",
       "      <th></th>\n",
       "      <th>full_text</th>\n",
       "      <th>subject</th>\n",
       "      <th>label</th>\n",
       "    </tr>\n",
       "  </thead>\n",
       "  <tbody>\n",
       "    <tr>\n",
       "      <th>0</th>\n",
       "      <td>BREAKING: GOP Chairman Grassley Has Had Enoug...</td>\n",
       "      <td>News</td>\n",
       "      <td>0</td>\n",
       "    </tr>\n",
       "    <tr>\n",
       "      <th>1</th>\n",
       "      <td>Failed GOP Candidates Remembered In Hilarious...</td>\n",
       "      <td>News</td>\n",
       "      <td>0</td>\n",
       "    </tr>\n",
       "    <tr>\n",
       "      <th>2</th>\n",
       "      <td>Mike Pence’s New DC Neighbors Are HILARIOUSLY...</td>\n",
       "      <td>News</td>\n",
       "      <td>0</td>\n",
       "    </tr>\n",
       "    <tr>\n",
       "      <th>3</th>\n",
       "      <td>California AG pledges to defend birth control ...</td>\n",
       "      <td>politicsNews</td>\n",
       "      <td>1</td>\n",
       "    </tr>\n",
       "    <tr>\n",
       "      <th>4</th>\n",
       "      <td>AZ RANCHERS Living On US-Mexico Border Destroy...</td>\n",
       "      <td>politics</td>\n",
       "      <td>0</td>\n",
       "    </tr>\n",
       "    <tr>\n",
       "      <th>...</th>\n",
       "      <td>...</td>\n",
       "      <td>...</td>\n",
       "      <td>...</td>\n",
       "    </tr>\n",
       "    <tr>\n",
       "      <th>44893</th>\n",
       "      <td>Nigeria says U.S. agrees delayed $593 million ...</td>\n",
       "      <td>worldnews</td>\n",
       "      <td>1</td>\n",
       "    </tr>\n",
       "    <tr>\n",
       "      <th>44894</th>\n",
       "      <td>Boiler Room #62 – Fatal Illusions Tune in to t...</td>\n",
       "      <td>Middle-east</td>\n",
       "      <td>0</td>\n",
       "    </tr>\n",
       "    <tr>\n",
       "      <th>44895</th>\n",
       "      <td>ATHEISTS SUE GOVERNOR OF TEXAS Over Display on...</td>\n",
       "      <td>Government News</td>\n",
       "      <td>0</td>\n",
       "    </tr>\n",
       "    <tr>\n",
       "      <th>44896</th>\n",
       "      <td>Republican tax plan would deal financial hit t...</td>\n",
       "      <td>politicsNews</td>\n",
       "      <td>1</td>\n",
       "    </tr>\n",
       "    <tr>\n",
       "      <th>44897</th>\n",
       "      <td>U.N. refugee commissioner says Australia must ...</td>\n",
       "      <td>worldnews</td>\n",
       "      <td>1</td>\n",
       "    </tr>\n",
       "  </tbody>\n",
       "</table>\n",
       "<p>44898 rows × 3 columns</p>\n",
       "</div>"
      ],
      "text/plain": [
       "                                               full_text          subject  \\\n",
       "0       BREAKING: GOP Chairman Grassley Has Had Enoug...             News   \n",
       "1       Failed GOP Candidates Remembered In Hilarious...             News   \n",
       "2       Mike Pence’s New DC Neighbors Are HILARIOUSLY...             News   \n",
       "3      California AG pledges to defend birth control ...     politicsNews   \n",
       "4      AZ RANCHERS Living On US-Mexico Border Destroy...         politics   \n",
       "...                                                  ...              ...   \n",
       "44893  Nigeria says U.S. agrees delayed $593 million ...        worldnews   \n",
       "44894  Boiler Room #62 – Fatal Illusions Tune in to t...      Middle-east   \n",
       "44895  ATHEISTS SUE GOVERNOR OF TEXAS Over Display on...  Government News   \n",
       "44896  Republican tax plan would deal financial hit t...     politicsNews   \n",
       "44897  U.N. refugee commissioner says Australia must ...        worldnews   \n",
       "\n",
       "       label  \n",
       "0          0  \n",
       "1          0  \n",
       "2          0  \n",
       "3          1  \n",
       "4          0  \n",
       "...      ...  \n",
       "44893      1  \n",
       "44894      0  \n",
       "44895      0  \n",
       "44896      1  \n",
       "44897      1  \n",
       "\n",
       "[44898 rows x 3 columns]"
      ]
     },
     "execution_count": 2,
     "metadata": {},
     "output_type": "execute_result"
    }
   ],
   "source": [
    "news_data = pd.read_csv(csv_path)\n",
    "news_data"
   ]
  },
  {
   "cell_type": "code",
   "execution_count": 3,
   "id": "d3850caa",
   "metadata": {},
   "outputs": [
    {
     "data": {
      "text/plain": [
       "(44898, 3)"
      ]
     },
     "execution_count": 3,
     "metadata": {},
     "output_type": "execute_result"
    }
   ],
   "source": [
    "news_data.shape"
   ]
  },
  {
   "cell_type": "code",
   "execution_count": 4,
   "id": "317f8d67",
   "metadata": {},
   "outputs": [
    {
     "data": {
      "text/html": [
       "<div>\n",
       "<style scoped>\n",
       "    .dataframe tbody tr th:only-of-type {\n",
       "        vertical-align: middle;\n",
       "    }\n",
       "\n",
       "    .dataframe tbody tr th {\n",
       "        vertical-align: top;\n",
       "    }\n",
       "\n",
       "    .dataframe thead th {\n",
       "        text-align: right;\n",
       "    }\n",
       "</style>\n",
       "<table border=\"1\" class=\"dataframe\">\n",
       "  <thead>\n",
       "    <tr style=\"text-align: right;\">\n",
       "      <th></th>\n",
       "      <th>full_text</th>\n",
       "      <th>subject</th>\n",
       "      <th>label</th>\n",
       "    </tr>\n",
       "  </thead>\n",
       "  <tbody>\n",
       "    <tr>\n",
       "      <th>0</th>\n",
       "      <td>False</td>\n",
       "      <td>False</td>\n",
       "      <td>False</td>\n",
       "    </tr>\n",
       "    <tr>\n",
       "      <th>1</th>\n",
       "      <td>False</td>\n",
       "      <td>False</td>\n",
       "      <td>False</td>\n",
       "    </tr>\n",
       "    <tr>\n",
       "      <th>2</th>\n",
       "      <td>False</td>\n",
       "      <td>False</td>\n",
       "      <td>False</td>\n",
       "    </tr>\n",
       "    <tr>\n",
       "      <th>3</th>\n",
       "      <td>False</td>\n",
       "      <td>False</td>\n",
       "      <td>False</td>\n",
       "    </tr>\n",
       "    <tr>\n",
       "      <th>4</th>\n",
       "      <td>False</td>\n",
       "      <td>False</td>\n",
       "      <td>False</td>\n",
       "    </tr>\n",
       "    <tr>\n",
       "      <th>...</th>\n",
       "      <td>...</td>\n",
       "      <td>...</td>\n",
       "      <td>...</td>\n",
       "    </tr>\n",
       "    <tr>\n",
       "      <th>44893</th>\n",
       "      <td>False</td>\n",
       "      <td>False</td>\n",
       "      <td>False</td>\n",
       "    </tr>\n",
       "    <tr>\n",
       "      <th>44894</th>\n",
       "      <td>False</td>\n",
       "      <td>False</td>\n",
       "      <td>False</td>\n",
       "    </tr>\n",
       "    <tr>\n",
       "      <th>44895</th>\n",
       "      <td>False</td>\n",
       "      <td>False</td>\n",
       "      <td>False</td>\n",
       "    </tr>\n",
       "    <tr>\n",
       "      <th>44896</th>\n",
       "      <td>False</td>\n",
       "      <td>False</td>\n",
       "      <td>False</td>\n",
       "    </tr>\n",
       "    <tr>\n",
       "      <th>44897</th>\n",
       "      <td>False</td>\n",
       "      <td>False</td>\n",
       "      <td>False</td>\n",
       "    </tr>\n",
       "  </tbody>\n",
       "</table>\n",
       "<p>44898 rows × 3 columns</p>\n",
       "</div>"
      ],
      "text/plain": [
       "       full_text  subject  label\n",
       "0          False    False  False\n",
       "1          False    False  False\n",
       "2          False    False  False\n",
       "3          False    False  False\n",
       "4          False    False  False\n",
       "...          ...      ...    ...\n",
       "44893      False    False  False\n",
       "44894      False    False  False\n",
       "44895      False    False  False\n",
       "44896      False    False  False\n",
       "44897      False    False  False\n",
       "\n",
       "[44898 rows x 3 columns]"
      ]
     },
     "execution_count": 4,
     "metadata": {},
     "output_type": "execute_result"
    }
   ],
   "source": [
    "news_data.isna()"
   ]
  },
  {
   "cell_type": "code",
   "execution_count": 5,
   "id": "bdb7244c",
   "metadata": {},
   "outputs": [
    {
     "data": {
      "text/plain": [
       "0         BREAKING: GOP Chairman Grassley Has Had Enoug...\n",
       "1         Failed GOP Candidates Remembered In Hilarious...\n",
       "2         Mike Pence’s New DC Neighbors Are HILARIOUSLY...\n",
       "3        California AG pledges to defend birth control ...\n",
       "4        AZ RANCHERS Living On US-Mexico Border Destroy...\n",
       "                               ...                        \n",
       "44893    Nigeria says U.S. agrees delayed $593 million ...\n",
       "44894    Boiler Room #62 – Fatal Illusions Tune in to t...\n",
       "44895    ATHEISTS SUE GOVERNOR OF TEXAS Over Display on...\n",
       "44896    Republican tax plan would deal financial hit t...\n",
       "44897    U.N. refugee commissioner says Australia must ...\n",
       "Name: full_text, Length: 44898, dtype: object"
      ]
     },
     "execution_count": 5,
     "metadata": {},
     "output_type": "execute_result"
    }
   ],
   "source": [
    "news_data['full_text']"
   ]
  },
  {
   "cell_type": "code",
   "execution_count": 10,
   "id": "0d9b2b3b",
   "metadata": {},
   "outputs": [],
   "source": [
    "import re \n",
    "from bs4 import BeautifulSoup\n",
    "from nltk.corpus import stopwords\n",
    "stop_words = set(stopwords.words('english'))\n",
    "\n",
    "def remove_html(text):\n",
    "    soup = BeautifulSoup(text, \"html.parser\")\n",
    "    return soup.get_text()\n",
    "\n",
    "\n",
    "def clean_text(text, lemmatize=False):\n",
    "    text = text.lower()  \n",
    "\n",
    "    text = remove_html(text)  \n",
    "    text = re.sub(r\"http\\S+|www\\S+\", \"\", text)   \n",
    "    text = re.sub(r\"[^a-zA-Z]\", \" \", text)  \n",
    "\n",
    "    tokens = text.split()   \n",
    "    tokens = [w for w in tokens if w not in stop_words]  \n",
    "\n",
    "    # if lemmatize:\n",
    "    #     tokens = [lemmatizer.lemmatize(w) for w in tokens]  # ✅ optional lemmatization  \n",
    "\n",
    "    return \" \".join(tokens)"
   ]
  },
  {
   "cell_type": "code",
   "execution_count": 11,
   "id": "9977f110",
   "metadata": {},
   "outputs": [
    {
     "name": "stderr",
     "output_type": "stream",
     "text": [
      "C:\\Users\\atalb\\AppData\\Local\\Temp\\ipykernel_30072\\1049205147.py:7: MarkupResemblesLocatorWarning: The input looks more like a filename than markup. You may want to open this file and pass the filehandle into Beautiful Soup.\n",
      "  soup = BeautifulSoup(text, \"html.parser\")\n"
     ]
    },
    {
     "data": {
      "text/plain": [
       "0        breaking gop chairman grassley enough demands ...\n",
       "1        failed gop candidates remembered hilarious moc...\n",
       "2        mike pence new dc neighbors hilariously trolli...\n",
       "3        california ag pledges defend birth control ins...\n",
       "4        az ranchers living us mexico border destroy na...\n",
       "                               ...                        \n",
       "44893    nigeria says u agrees delayed million fighter ...\n",
       "44894    boiler room fatal illusions tune alternate cur...\n",
       "44895    atheists sue governor texas display capitol gr...\n",
       "44896    republican tax plan would deal financial hit u...\n",
       "44897    u n refugee commissioner says australia must s...\n",
       "Name: full_text, Length: 44898, dtype: object"
      ]
     },
     "execution_count": 11,
     "metadata": {},
     "output_type": "execute_result"
    }
   ],
   "source": [
    "clean_df = news_data['full_text'].apply(lambda x: clean_text(x))\n",
    "clean_df"
   ]
  },
  {
   "cell_type": "code",
   "execution_count": null,
   "id": "ac53eb06",
   "metadata": {},
   "outputs": [],
   "source": []
  },
  {
   "cell_type": "code",
   "execution_count": null,
   "id": "4e0124f3",
   "metadata": {},
   "outputs": [],
   "source": []
  },
  {
   "cell_type": "code",
   "execution_count": null,
   "id": "bb5c804b",
   "metadata": {},
   "outputs": [],
   "source": []
  },
  {
   "cell_type": "code",
   "execution_count": null,
   "id": "d7323dad",
   "metadata": {},
   "outputs": [],
   "source": []
  },
  {
   "cell_type": "code",
   "execution_count": null,
   "id": "9189659e",
   "metadata": {},
   "outputs": [],
   "source": []
  },
  {
   "cell_type": "code",
   "execution_count": null,
   "id": "64b7fd19",
   "metadata": {},
   "outputs": [],
   "source": []
  }
 ],
 "metadata": {
  "kernelspec": {
   "display_name": "Python 3",
   "language": "python",
   "name": "python3"
  },
  "language_info": {
   "codemirror_mode": {
    "name": "ipython",
    "version": 3
   },
   "file_extension": ".py",
   "mimetype": "text/x-python",
   "name": "python",
   "nbconvert_exporter": "python",
   "pygments_lexer": "ipython3",
   "version": "3.11.1"
  }
 },
 "nbformat": 4,
 "nbformat_minor": 5
}
